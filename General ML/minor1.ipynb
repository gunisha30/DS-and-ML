{
 "cells": [
  {
   "cell_type": "code",
   "execution_count": 7,
   "metadata": {},
   "outputs": [
    {
     "name": "stderr",
     "output_type": "stream",
     "text": [
      "[nltk_data] Downloading package punkt to\n",
      "[nltk_data]     C:\\Users\\hp1\\AppData\\Roaming\\nltk_data...\n",
      "[nltk_data]   Package punkt is already up-to-date!\n"
     ]
    }
   ],
   "source": [
    "import pandas as pd\n",
    "import numpy as np\n",
    "import re\n",
    "import nltk\n",
    "nltk.download('punkt')\n",
    "from nltk.tokenize import word_tokenize  \n",
    "from nltk.corpus import stopwords\n",
    "from sklearn.feature_extraction.text import CountVectorizer\n",
    "df=pd.read_csv(\"C:/Users/hp1/Documents/minor/parttwo.csv\")\n",
    "pd.set_option('display.max_columns', 500)\n",
    "from sklearn.cluster import KMeans"
   ]
  },
  {
   "cell_type": "code",
   "execution_count": 8,
   "metadata": {},
   "outputs": [],
   "source": [
    "df1=df.loc[0:99,'Indicator_Name']\n",
    "stop_words = set(stopwords.words('english'))\n",
    "for i in range(0,df1.size):\n",
    "    df1[i]=re.sub('\\(.*?\\)',\"\",df1[i]) #remove content within brackets\n",
    "    df1[i] = re.sub(r'[^\\w\\s]',\"\", df1[i]) #remove punctuations\n",
    "    df1[i] = re.sub('\\d',\"\",df1[i])\n",
    "    word_tokens = word_tokenize(df1[i])\n",
    "    df1[i]=\" \".join(filter(lambda x: x not in stop_words , word_tokens))"
   ]
  },
  {
   "cell_type": "code",
   "execution_count": 9,
   "metadata": {},
   "outputs": [],
   "source": [
    "pd.set_option('display.max_columns', 500)\n",
    "v=CountVectorizer() \n",
    "v1=v.fit_transform(df1)\n",
    "#print(v.get_feature_names())\n",
    "#print(v.vocabulary_)\n",
    "arr=v1.toarray()"
   ]
  },
  {
   "cell_type": "code",
   "execution_count": 20,
   "metadata": {},
   "outputs": [
    {
     "data": {
      "text/plain": [
       "4     Account ownership financial institution mobile...\n",
       "5     Account ownership financial institution mobile...\n",
       "6     Account ownership financial institution mobile...\n",
       "7     Account ownership financial institution mobile...\n",
       "8     Account ownership financial institution mobile...\n",
       "9     Account ownership financial institution mobile...\n",
       "10    Account ownership financial institution mobile...\n",
       "11    Account ownership financial institution mobile...\n",
       "12    Account ownership financial institution mobile...\n",
       "Name: Indicator_Name, dtype: object"
      ]
     },
     "execution_count": 20,
     "metadata": {},
     "output_type": "execute_result"
    }
   ],
   "source": [
    "#Kmean = KMeans(n_clusters=6)\n",
    "#cluster=Kmean.fit_predict(arr)\n",
    "#print(cluster)\n",
    "#df2=pd.Series(list(cluster))\n",
    "#df1=pd.concat([df1,df2],axis=1)\n",
    "#df1.rename(columns={0:'Cluster'},inplace=True)\n",
    "#df1.to_csv(\"C:/Users/hp1/Documents/minor/withcluster.csv\")\n",
    "#df1.groupby()\n",
    "#print(Kmean.cluster_centers_)\n",
    "#print(len(Kmean.labels_))\n",
    "#df1.head()\n",
    "#df1[df1.Cluster==1]['Indicator_Name']"
   ]
  },
  {
   "cell_type": "code",
   "execution_count": null,
   "metadata": {},
   "outputs": [],
   "source": []
  },
  {
   "cell_type": "code",
   "execution_count": null,
   "metadata": {},
   "outputs": [],
   "source": []
  }
 ],
 "metadata": {
  "kernelspec": {
   "display_name": "Python 3",
   "language": "python",
   "name": "python3"
  },
  "language_info": {
   "codemirror_mode": {
    "name": "ipython",
    "version": 3
   },
   "file_extension": ".py",
   "mimetype": "text/x-python",
   "name": "python",
   "nbconvert_exporter": "python",
   "pygments_lexer": "ipython3",
   "version": "3.7.1"
  }
 },
 "nbformat": 4,
 "nbformat_minor": 2
}
