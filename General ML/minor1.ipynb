{
 "cells": [
  {
   "cell_type": "code",
   "execution_count": 34,
   "metadata": {},
   "outputs": [
    {
     "name": "stderr",
     "output_type": "stream",
     "text": [
      "[nltk_data] Downloading package punkt to\n",
      "[nltk_data]     C:\\Users\\hp1\\AppData\\Roaming\\nltk_data...\n",
      "[nltk_data]   Package punkt is already up-to-date!\n"
     ]
    }
   ],
   "source": [
    "import pandas as pd\n",
    "import numpy as np\n",
    "import re\n",
    "import nltk\n",
    "nltk.download('punkt')\n",
    "from nltk.tokenize import word_tokenize  \n",
    "from nltk.corpus import stopwords\n",
    "from sklearn.feature_extraction.text import CountVectorizer\n",
    "df=pd.read_csv(\"C:/Users/hp1/Documents/minor/parttwo.csv\")\n",
    "pd.set_option('display.max_rows', 500)\n",
    "from sklearn.cluster import KMeans"
   ]
  },
  {
   "cell_type": "code",
   "execution_count": 3,
   "metadata": {},
   "outputs": [],
   "source": [
    "df1=df.loc[0:99,'Indicator_Name']"
   ]
  },
  {
   "cell_type": "code",
   "execution_count": 8,
   "metadata": {},
   "outputs": [
    {
     "name": "stdout",
     "output_type": "stream",
     "text": [
      "100\n",
      "Access to clean fuels and technologies for cooking (% of population)\n"
     ]
    }
   ],
   "source": [
    "print(df1.size)\n",
    "print(df1[0])"
   ]
  },
  {
   "cell_type": "code",
   "execution_count": 9,
   "metadata": {},
   "outputs": [
    {
     "data": {
      "text/plain": [
       "0              Access clean fuels technologies cooking\n",
       "1                                   Access electricity\n",
       "2                             Access electricity rural\n",
       "3                             Access electricity urban\n",
       "4    Account ownership financial institution mobile...\n",
       "Name: Indicator_Name, dtype: object"
      ]
     },
     "execution_count": 9,
     "metadata": {},
     "output_type": "execute_result"
    }
   ],
   "source": [
    "stop_words = set(stopwords.words('english'))\n",
    "for i in range(0,df1.size):\n",
    "    df1[i]=re.sub('\\(.*?\\)',\" \",df1[i]) #remove content within brackets\n",
    "    df1[i] = re.sub(r'[^\\w\\s]', '', df1[i]) #remove punctuations\n",
    "    word_tokens = word_tokenize(df1[i])\n",
    "    df1[i]=\" \".join(filter(lambda x: x not in stop_words , word_tokens))\n",
    "     #print(i)\n",
    "df1.head()"
   ]
  },
  {
   "cell_type": "code",
   "execution_count": 43,
   "metadata": {},
   "outputs": [],
   "source": [
    "pd.set_option('display.max_columns', 500)\n",
    "v=CountVectorizer() \n",
    "v.fit(df1) \n",
    "v1=v.transform(df1)\n",
    "print(v.get_feature_names())\n",
    "#print(v.vocabulary_)\n",
    "df2=pd.DataFrame(v1.toarray())\n",
    "df2.head()"
   ]
  },
  {
   "cell_type": "code",
   "execution_count": 42,
   "metadata": {},
   "outputs": [
    {
     "data": {
      "text/plain": [
       "KMeans(algorithm='auto', copy_x=True, init='k-means++', max_iter=300,\n",
       "    n_clusters=4, n_init=10, n_jobs=None, precompute_distances='auto',\n",
       "    random_state=None, tol=0.0001, verbose=0)"
      ]
     },
     "execution_count": 42,
     "metadata": {},
     "output_type": "execute_result"
    }
   ],
   "source": [
    "Kmean = KMeans(n_clusters=4)\n",
    "Kmean.fit(df2)\n",
    "#print(Kmean.cluster_centers_)\n",
    "#print(len(Kmean.labels_))"
   ]
  },
  {
   "cell_type": "code",
   "execution_count": null,
   "metadata": {},
   "outputs": [],
   "source": []
  }
 ],
 "metadata": {
  "kernelspec": {
   "display_name": "Python 3",
   "language": "python",
   "name": "python3"
  },
  "language_info": {
   "codemirror_mode": {
    "name": "ipython",
    "version": 3
   },
   "file_extension": ".py",
   "mimetype": "text/x-python",
   "name": "python",
   "nbconvert_exporter": "python",
   "pygments_lexer": "ipython3",
   "version": "3.7.1"
  }
 },
 "nbformat": 4,
 "nbformat_minor": 2
}
