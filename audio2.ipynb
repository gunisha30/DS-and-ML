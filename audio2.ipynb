{
  "nbformat": 4,
  "nbformat_minor": 0,
  "metadata": {
    "colab": {
      "name": "audio2",
      "provenance": [],
      "collapsed_sections": [],
      "include_colab_link": true
    },
    "kernelspec": {
      "name": "python3",
      "display_name": "Python 3"
    }
  },
  "cells": [
    {
      "cell_type": "markdown",
      "metadata": {
        "id": "view-in-github",
        "colab_type": "text"
      },
      "source": [
        "<a href=\"https://colab.research.google.com/github/gunisha30/machinelearning/blob/master/audio2.ipynb\" target=\"_parent\"><img src=\"https://colab.research.google.com/assets/colab-badge.svg\" alt=\"Open In Colab\"/></a>"
      ]
    },
    {
      "cell_type": "code",
      "metadata": {
        "id": "LcHI-srP2mQu",
        "colab_type": "code",
        "colab": {}
      },
      "source": [
        "!pip install praat-parselmouth"
      ],
      "execution_count": 0,
      "outputs": []
    },
    {
      "cell_type": "code",
      "metadata": {
        "id": "6yXBK0q-V85U",
        "colab_type": "code",
        "outputId": "ad65c52b-1863-4f45-89ee-fcbb26bfd3b0",
        "colab": {
          "base_uri": "https://localhost:8080/",
          "height": 70
        }
      },
      "source": [
        "import parselmouth\n",
        "from parselmouth.praat import call, run_file\n",
        "import inspect as i\n",
        "import sys\n",
        "    \n",
        "def mysppaus(m,p): #no of pauses\n",
        "    sound=p+\"/\"+m+\".wav\" #entire path till audio file\n",
        "    sourcerun=p+\"/\"+\"myspsolution.praat\" #path till mysolution.praat\n",
        "    path=p #path till the folder which has audio file\n",
        "    try:\n",
        "        objects= run_file(sourcerun, -20, 2, 0.3, \"yes\",sound,path, 80, 400, 0.01, capture_output=True)\n",
        "        #print (objects) \n",
        "        z1=str( objects[1])\n",
        "        z2=z1.strip().split()\n",
        "        #print(z2)\n",
        "        print (\"number of pauses=\",z2[1])\n",
        "        p=int(z2[1])\n",
        "        print ((p*0.3)/60)/2\n",
        "        print (\"articulation rate=\",z2[3])\n",
        "    except:\n",
        "        print (\"Try again the sound of the audio was not clear\")\n",
        "    return;\n",
        "\n",
        "\n",
        "#audioname=\"George\"\n",
        "path1=\"/content/drive/My Drive/awarathon\"\n",
        "mysppaus(\"George\",path1) \n",
        "#x1, sr1 = librosa.load('audio1.wav')\n",
        "#x1 = list(x1[0:int(3.5*sr1)])"
      ],
      "execution_count": 6,
      "outputs": [
        {
          "output_type": "stream",
          "text": [
            "number of pauses= 51\n",
            "0.255\n",
            "Try again the sound of the audio was not clear\n"
          ],
          "name": "stdout"
        }
      ]
    },
    {
      "cell_type": "code",
      "metadata": {
        "id": "i_k5DZ4UP1zk",
        "colab_type": "code",
        "colab": {}
      },
      "source": [
        "from google.colab import drive\n",
        "drive.mount('/content/drive')"
      ],
      "execution_count": 0,
      "outputs": []
    }
  ]
}