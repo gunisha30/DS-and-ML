{
  "nbformat": 4,
  "nbformat_minor": 0,
  "metadata": {
    "colab": {
      "name": "audioanalysis",
      "provenance": [],
      "collapsed_sections": [],
      "include_colab_link": true
    },
    "kernelspec": {
      "name": "python3",
      "display_name": "Python 3"
    }
  },
  "cells": [
    {
      "cell_type": "markdown",
      "metadata": {
        "id": "view-in-github",
        "colab_type": "text"
      },
      "source": [
        "<a href=\"https://colab.research.google.com/github/gunisha30/machinelearning/blob/master/audioanalysis.ipynb\" target=\"_parent\"><img src=\"https://colab.research.google.com/assets/colab-badge.svg\" alt=\"Open In Colab\"/></a>"
      ]
    },
    {
      "cell_type": "code",
      "metadata": {
        "id": "ag06WPN0RP56",
        "colab_type": "code",
        "outputId": "a8d45d83-19ce-4040-86fc-ee7a412042aa",
        "colab": {
          "base_uri": "https://localhost:8080/",
          "height": 228
        }
      },
      "source": [
        "#from google.colab import drive\n",
        "#drive.mount('/content/drive')\n",
        "!pip install my-voice-analysis"
      ],
      "execution_count": 2,
      "outputs": [
        {
          "output_type": "stream",
          "text": [
            "Collecting my-voice-analysis\n",
            "  Downloading https://files.pythonhosted.org/packages/99/9e/0f8eb6916e35f8733aa8bee11d473439af904a8abcaa581926a2b1998f09/my_voice_analysis-0.7-py3-none-any.whl\n",
            "Requirement already satisfied: scipy>=1.1.0 in /usr/local/lib/python3.6/dist-packages (from my-voice-analysis) (1.4.1)\n",
            "Requirement already satisfied: numpy>=1.15.2 in /usr/local/lib/python3.6/dist-packages (from my-voice-analysis) (1.18.2)\n",
            "Collecting praat-parselmouth>=0.3.2\n",
            "\u001b[?25l  Downloading https://files.pythonhosted.org/packages/09/7b/9fa1172a63b6277603d27bb5613559b5a8888f58e68c1698017b87b0061d/praat_parselmouth-0.3.3-cp36-cp36m-manylinux1_x86_64.whl (9.0MB)\n",
            "\u001b[K     |████████████████████████████████| 9.0MB 2.0MB/s \n",
            "\u001b[?25hRequirement already satisfied: pandas>=0.23.4 in /usr/local/lib/python3.6/dist-packages (from my-voice-analysis) (1.0.3)\n",
            "Requirement already satisfied: pytz>=2017.2 in /usr/local/lib/python3.6/dist-packages (from pandas>=0.23.4->my-voice-analysis) (2018.9)\n",
            "Requirement already satisfied: python-dateutil>=2.6.1 in /usr/local/lib/python3.6/dist-packages (from pandas>=0.23.4->my-voice-analysis) (2.8.1)\n",
            "Requirement already satisfied: six>=1.5 in /usr/local/lib/python3.6/dist-packages (from python-dateutil>=2.6.1->pandas>=0.23.4->my-voice-analysis) (1.12.0)\n",
            "Installing collected packages: praat-parselmouth, my-voice-analysis\n",
            "Successfully installed my-voice-analysis-0.7 praat-parselmouth-0.3.3\n"
          ],
          "name": "stdout"
        }
      ]
    },
    {
      "cell_type": "markdown",
      "metadata": {
        "id": "hY9KdRGl47Yt",
        "colab_type": "text"
      },
      "source": [
        ""
      ]
    },
    {
      "cell_type": "code",
      "metadata": {
        "colab_type": "code",
        "id": "HEnO_-FwxC5F",
        "colab": {}
      },
      "source": [
        "\n",
        "#USING WAVFILE\n",
        "\n",
        "import numpy as np\n",
        "import scipy.io.wavfile\n",
        "from scipy.fftpack import dct\n",
        "import os\n",
        "import sys\n",
        "import matplotlib.pyplot as plt\n",
        "\n",
        "#TO DISPLAY ENTIRE ARRAY\n",
        "#np.set_printoptions(threshold=sys.maxsize) \n",
        "\n",
        "os.chdir('/content/drive/My Drive/awarathon')\n",
        "\n",
        "#READ AUDIO FILES\n",
        "\n",
        "rate1, normal = scipy.io.wavfile.read(\"audio1.wav\") \n",
        "rate2, fast = scipy.io.wavfile.read(\"audio1fast.wav\")\n",
        "rate3, slow = scipy.io.wavfile.read(\"audio1slow.wav\")\n",
        "print(fast.size)\n",
        "#DECREASE LENGTH OF AUDIO\n",
        "\n",
        "normal = normal[0:int(3.5 * rate1)]  \n",
        "fast = fast[0:int(3.5 * rate2)]\n",
        "slow = slow[0:int(3.5 * rate3)]\n",
        "\n",
        "#RANDOM EXPERIMENTS ON DATA\n",
        "\n",
        "#print(signal.size,samplerate) \n",
        "#length = signal.shape[0] / samplerate\n",
        "#print(signal.shape[0])\n",
        "#f, (ax1,ax2,ax3)=plt.subplot(3)\n",
        "#plt.axes.Axes.set_xscale(1, 'linear')\n",
        "\n",
        "#FIND LENGTH OF AUDIO\n",
        "\n",
        "l1=normal.size/rate1 \n",
        "l2=normal.size/rate2\n",
        "l3=normal.size/rate3\n",
        "\n",
        "#TIME TO BE PLOTTED ON X-AXIS \n",
        "\n",
        "t1 = np.linspace(0, l1, normal.size)\n",
        "t2=  np.linspace(0, l1, normal.size)\n",
        "t3=  np.linspace(0, l1, normal.size)\n",
        "\n",
        "#PLOTTING THE SIGNALS\n",
        "\n",
        "# plt.xlabel(\"Time [s]\")\n",
        "# plt.ylabel(\"Amplitude\")\n",
        "# plt.rcParams[\"figure.figsize\"] = [6,6]\n",
        "# plt.plot(t3,normal)\n",
        "# plt.show()\n",
        "# plt.plot(t2, fast)\n",
        "# plt.show()\n",
        "# plt.plot (t3, slow)\n",
        "# plt.show()\n",
        "\n"
      ],
      "execution_count": 0,
      "outputs": []
    },
    {
      "cell_type": "code",
      "metadata": {
        "id": "C94oW6O3tCbV",
        "colab_type": "code",
        "outputId": "7199bf62-68ce-431e-921f-62b23cd913d2",
        "colab": {
          "base_uri": "https://localhost:8080/",
          "height": 33
        }
      },
      "source": [
        "\n",
        "#USING LIBROSA\n",
        "\n",
        "import librosa\n",
        "import os\n",
        "import IPython.display as ipd\n",
        "import matplotlib.pyplot as plt\n",
        "import librosa.display\n",
        "import sklearn\n",
        "import numpy as np\n",
        "os.chdir('/content/drive/My Drive/awarathon')\n",
        "\n",
        "#LOAD AUDIO AND REDUCE LENGTH\n",
        "\n",
        "x1, sr1 = librosa.load('audio1.wav')\n",
        "#print (np.sum(x1)/(x1.size))\n",
        "#x = x[0:int(3.5*sr)]\n",
        "x2, sr2 = librosa.load('audio1fast.wav')\n",
        "#print (np.sum(x2)/(x2.size))\n",
        "#x1 = x1[0:int(2.5*sr)]\n",
        "x3, sr3 = librosa.load('audio1slow.wav')\n",
        "#print (np.sum(x3)/(x3.size))\n",
        "#x2 = x2[0:int(5*sr)]\n",
        "#x4, sr4 = librosa.load('audio2.wav')\n",
        "\n",
        "#DISPLAY AUDIO\n",
        "#ipd.Audio('audio1.wav')\n",
        "\n",
        "#CALCULATE SPECTRAL CENTROID \n",
        "\n",
        "spectral_centroids1 = librosa.feature.spectral_centroid(x1, sr=sr1)[0]\n",
        "#print(spectral_centroids.size)  numpy 2D array, length is 151\n",
        "#print (np.sum(spectral_centroids1)/(spectral_centroids1.size)) #calculating mean\n",
        "\n",
        "spectral_centroids2 = librosa.feature.spectral_centroid(x2, sr=sr2)[0]\n",
        "#print(np.sum(spectral_centroids2)/(spectral_centroids2.size)) #mean of fast audio\n",
        "\n",
        "spectral_centroids3 = librosa.feature.spectral_centroid(x3, sr=sr3)[0]\n",
        "#print(np.sum(spectral_centroids3)/(spectral_centroids3.size))\n",
        "\n",
        "# spectral_centroids4 = librosa.feature.spectral_centroid(x4, sr=sr4)[0]\n",
        "# print(np.sum(spectral_centroids4)/(spectral_centroids4.size))\n",
        "# plt.figure(figsize=(12, 12))\n",
        "# def normalize(x, axis=0):\n",
        "#     return sklearn.preprocessing.minmax_scale(x, axis=axis)\n",
        "frames = range(len(spectral_centroids1))\n",
        "t = librosa.frames_to_time(frames)\n",
        "\n",
        "# librosa.display.waveplot(x, sr=sr, alpha=0.4)\n",
        "# plt.plot(t, normalize(spectral_centroids), color='b')\n",
        "\n",
        "\n",
        "\n",
        "# spectral_rolloff = librosa.feature.spectral_rolloff(x+0.01, sr=sr)[0]\n",
        "# plt.figure(figsize=(12, 4))\n",
        "# librosa.display.waveplot(x, sr=sr, alpha=0.4)\n",
        "# plt.plot(t, normalize(spectral_rolloff), color='r')\n",
        "\n",
        "# spectral_centroids1 = librosa.feature.spectral_centroid(x1, sr=sr1)[0]\n",
        "# frames1 = range(len(spectral_centroids1))\n",
        "# t1 = librosa.frames_to_time(frames1)\n",
        "# spectral_rolloff1 = librosa.feature.spectral_rolloff(x1+0.01, sr=sr1)[0]\n",
        "# plt.figure(figsize=(12, 4))\n",
        "# librosa.display.waveplot(x1, sr=sr1, alpha=0.4)\n",
        "# plt.plot(t1, normalize(spectral_rolloff1), color='r')"
      ],
      "execution_count": 0,
      "outputs": [
        {
          "output_type": "stream",
          "text": [
            "<class 'numpy.ndarray'>\n"
          ],
          "name": "stdout"
        }
      ]
    }
  ]
}