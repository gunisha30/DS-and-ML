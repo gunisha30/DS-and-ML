{
  "nbformat": 4,
  "nbformat_minor": 0,
  "metadata": {
    "colab": {
      "name": "audioanalysis",
      "provenance": [],
      "collapsed_sections": [],
      "include_colab_link": true
    },
    "kernelspec": {
      "name": "python3",
      "display_name": "Python 3"
    }
  },
  "cells": [
    {
      "cell_type": "markdown",
      "metadata": {
        "id": "view-in-github",
        "colab_type": "text"
      },
      "source": [
        "<a href=\"https://colab.research.google.com/github/gunisha30/machinelearning/blob/master/audioanalysis.ipynb\" target=\"_parent\"><img src=\"https://colab.research.google.com/assets/colab-badge.svg\" alt=\"Open In Colab\"/></a>"
      ]
    },
    {
      "cell_type": "code",
      "metadata": {
        "id": "ag06WPN0RP56",
        "colab_type": "code",
        "outputId": "9c96a3d8-e57d-4742-b387-b6fc7e8e99d1",
        "colab": {
          "base_uri": "https://localhost:8080/",
          "height": 245
        }
      },
      "source": [
        "#from google.colab import drive\n",
        "#drive.mount('/content/drive')\n",
        "!pip install myprosody"
      ],
      "execution_count": 12,
      "outputs": [
        {
          "output_type": "stream",
          "text": [
            "Collecting myprosody\n",
            "  Downloading https://files.pythonhosted.org/packages/98/92/33c6e2ce9b16b1485749eafad6392f1c03f2c37611bb9565ec6caaca4aa0/myprosody-20-py3-none-any.whl\n",
            "Requirement already satisfied: numpy>=1.15.2 in /usr/local/lib/python3.6/dist-packages (from myprosody) (1.18.2)\n",
            "Requirement already satisfied: praat-parselmouth>=0.3.2 in /usr/local/lib/python3.6/dist-packages (from myprosody) (0.3.3)\n",
            "Requirement already satisfied: scikit-learn>=0.20.2 in /usr/local/lib/python3.6/dist-packages (from myprosody) (0.22.2.post1)\n",
            "Requirement already satisfied: pickleshare>=0.7.5 in /usr/local/lib/python3.6/dist-packages (from myprosody) (0.7.5)\n",
            "Requirement already satisfied: scipy>=1.1.0 in /usr/local/lib/python3.6/dist-packages (from myprosody) (1.4.1)\n",
            "Requirement already satisfied: pandas>=0.23.4 in /usr/local/lib/python3.6/dist-packages (from myprosody) (1.0.3)\n",
            "Requirement already satisfied: joblib>=0.11 in /usr/local/lib/python3.6/dist-packages (from scikit-learn>=0.20.2->myprosody) (0.14.1)\n",
            "Requirement already satisfied: python-dateutil>=2.6.1 in /usr/local/lib/python3.6/dist-packages (from pandas>=0.23.4->myprosody) (2.8.1)\n",
            "Requirement already satisfied: pytz>=2017.2 in /usr/local/lib/python3.6/dist-packages (from pandas>=0.23.4->myprosody) (2018.9)\n",
            "Requirement already satisfied: six>=1.5 in /usr/local/lib/python3.6/dist-packages (from python-dateutil>=2.6.1->pandas>=0.23.4->myprosody) (1.12.0)\n",
            "Installing collected packages: myprosody\n",
            "Successfully installed myprosody-20\n"
          ],
          "name": "stdout"
        }
      ]
    },
    {
      "cell_type": "code",
      "metadata": {
        "id": "q2btNTpNzxEs",
        "colab_type": "code",
        "colab": {
          "base_uri": "https://localhost:8080/",
          "height": 33
        },
        "outputId": "94adf0f1-018a-45ed-b936-964a21e382b8"
      },
      "source": [
        "import myprosody as p\n",
        "audio=\"audio1.wav\"\n",
        "path=\"'/content/drive/My Drive/awarathon'\"\n",
        "p.myspgend(audio,path)"
      ],
      "execution_count": 13,
      "outputs": [
        {
          "output_type": "stream",
          "text": [
            "Try again the sound of the audio was not clear\n"
          ],
          "name": "stdout"
        }
      ]
    },
    {
      "cell_type": "code",
      "metadata": {
        "id": "2qqaQ1G713Vq",
        "colab_type": "code",
        "colab": {
          "base_uri": "https://localhost:8080/",
          "height": 118
        },
        "outputId": "c225cebd-30b4-401e-836d-b32c2dde1b1c"
      },
      "source": [
        "from google.colab import drive\n",
        "drive.mount('/content/drive')"
      ],
      "execution_count": 9,
      "outputs": [
        {
          "output_type": "stream",
          "text": [
            "Go to this URL in a browser: https://accounts.google.com/o/oauth2/auth?client_id=947318989803-6bn6qk8qdgf4n4g3pfee6491hc0brc4i.apps.googleusercontent.com&redirect_uri=urn%3aietf%3awg%3aoauth%3a2.0%3aoob&response_type=code&scope=email%20https%3a%2f%2fwww.googleapis.com%2fauth%2fdocs.test%20https%3a%2f%2fwww.googleapis.com%2fauth%2fdrive%20https%3a%2f%2fwww.googleapis.com%2fauth%2fdrive.photos.readonly%20https%3a%2f%2fwww.googleapis.com%2fauth%2fpeopleapi.readonly\n",
            "\n",
            "Enter your authorization code:\n",
            "··········\n",
            "Mounted at /content/drive\n"
          ],
          "name": "stdout"
        }
      ]
    },
    {
      "cell_type": "markdown",
      "metadata": {
        "id": "hY9KdRGl47Yt",
        "colab_type": "text"
      },
      "source": [
        ""
      ]
    },
    {
      "cell_type": "code",
      "metadata": {
        "colab_type": "code",
        "id": "HEnO_-FwxC5F",
        "colab": {}
      },
      "source": [
        "\n",
        "#USING WAVFILE\n",
        "\n",
        "import numpy as np\n",
        "import scipy.io.wavfile\n",
        "from scipy.fftpack import dct\n",
        "import os\n",
        "import sys\n",
        "import matplotlib.pyplot as plt\n",
        "\n",
        "#TO DISPLAY ENTIRE ARRAY\n",
        "#np.set_printoptions(threshold=sys.maxsize) \n",
        "\n",
        "os.chdir('/content/drive/My Drive/awarathon')\n",
        "\n",
        "#READ AUDIO FILES\n",
        "\n",
        "rate1, normal = scipy.io.wavfile.read(\"audio1.wav\") \n",
        "rate2, fast = scipy.io.wavfile.read(\"audio1fast.wav\")\n",
        "rate3, slow = scipy.io.wavfile.read(\"audio1slow.wav\")\n",
        "print(fast.size)\n",
        "#DECREASE LENGTH OF AUDIO\n",
        "\n",
        "normal = normal[0:int(3.5 * rate1)]  \n",
        "fast = fast[0:int(3.5 * rate2)]\n",
        "slow = slow[0:int(3.5 * rate3)]\n",
        "\n",
        "#RANDOM EXPERIMENTS ON DATA\n",
        "\n",
        "#print(signal.size,samplerate) \n",
        "#length = signal.shape[0] / samplerate\n",
        "#print(signal.shape[0])\n",
        "#f, (ax1,ax2,ax3)=plt.subplot(3)\n",
        "#plt.axes.Axes.set_xscale(1, 'linear')\n",
        "\n",
        "#FIND LENGTH OF AUDIO\n",
        "\n",
        "l1=normal.size/rate1 \n",
        "l2=normal.size/rate2\n",
        "l3=normal.size/rate3\n",
        "\n",
        "#TIME TO BE PLOTTED ON X-AXIS \n",
        "\n",
        "t1 = np.linspace(0, l1, normal.size)\n",
        "t2=  np.linspace(0, l1, normal.size)\n",
        "t3=  np.linspace(0, l1, normal.size)\n",
        "\n",
        "#PLOTTING THE SIGNALS\n",
        "\n",
        "# plt.xlabel(\"Time [s]\")\n",
        "# plt.ylabel(\"Amplitude\")\n",
        "# plt.rcParams[\"figure.figsize\"] = [6,6]\n",
        "# plt.plot(t3,normal)\n",
        "# plt.show()\n",
        "# plt.plot(t2, fast)\n",
        "# plt.show()\n",
        "# plt.plot (t3, slow)\n",
        "# plt.show()\n",
        "\n"
      ],
      "execution_count": 0,
      "outputs": []
    },
    {
      "cell_type": "code",
      "metadata": {
        "id": "C94oW6O3tCbV",
        "colab_type": "code",
        "outputId": "7199bf62-68ce-431e-921f-62b23cd913d2",
        "colab": {
          "base_uri": "https://localhost:8080/",
          "height": 33
        }
      },
      "source": [
        "\n",
        "#USING LIBROSA\n",
        "\n",
        "import librosa\n",
        "import os\n",
        "import IPython.display as ipd\n",
        "import matplotlib.pyplot as plt\n",
        "import librosa.display\n",
        "import sklearn\n",
        "import numpy as np\n",
        "os.chdir('/content/drive/My Drive/awarathon')\n",
        "\n",
        "#LOAD AUDIO AND REDUCE LENGTH\n",
        "\n",
        "x1, sr1 = librosa.load('audio1.wav')\n",
        "#print (np.sum(x1)/(x1.size))\n",
        "#x = x[0:int(3.5*sr)]\n",
        "x2, sr2 = librosa.load('audio1fast.wav')\n",
        "#print (np.sum(x2)/(x2.size))\n",
        "#x1 = x1[0:int(2.5*sr)]\n",
        "x3, sr3 = librosa.load('audio1slow.wav')\n",
        "#print (np.sum(x3)/(x3.size))\n",
        "#x2 = x2[0:int(5*sr)]\n",
        "#x4, sr4 = librosa.load('audio2.wav')\n",
        "\n",
        "#DISPLAY AUDIO\n",
        "#ipd.Audio('audio1.wav')\n",
        "\n",
        "#CALCULATE SPECTRAL CENTROID \n",
        "\n",
        "spectral_centroids1 = librosa.feature.spectral_centroid(x1, sr=sr1)[0]\n",
        "#print(spectral_centroids.size)  numpy 2D array, length is 151\n",
        "#print (np.sum(spectral_centroids1)/(spectral_centroids1.size)) #calculating mean\n",
        "\n",
        "spectral_centroids2 = librosa.feature.spectral_centroid(x2, sr=sr2)[0]\n",
        "#print(np.sum(spectral_centroids2)/(spectral_centroids2.size)) #mean of fast audio\n",
        "\n",
        "spectral_centroids3 = librosa.feature.spectral_centroid(x3, sr=sr3)[0]\n",
        "#print(np.sum(spectral_centroids3)/(spectral_centroids3.size))\n",
        "\n",
        "# spectral_centroids4 = librosa.feature.spectral_centroid(x4, sr=sr4)[0]\n",
        "# print(np.sum(spectral_centroids4)/(spectral_centroids4.size))\n",
        "# plt.figure(figsize=(12, 12))\n",
        "# def normalize(x, axis=0):\n",
        "#     return sklearn.preprocessing.minmax_scale(x, axis=axis)\n",
        "frames = range(len(spectral_centroids1))\n",
        "t = librosa.frames_to_time(frames)\n",
        "\n",
        "# librosa.display.waveplot(x, sr=sr, alpha=0.4)\n",
        "# plt.plot(t, normalize(spectral_centroids), color='b')\n",
        "\n",
        "\n",
        "\n",
        "# spectral_rolloff = librosa.feature.spectral_rolloff(x+0.01, sr=sr)[0]\n",
        "# plt.figure(figsize=(12, 4))\n",
        "# librosa.display.waveplot(x, sr=sr, alpha=0.4)\n",
        "# plt.plot(t, normalize(spectral_rolloff), color='r')\n",
        "\n",
        "# spectral_centroids1 = librosa.feature.spectral_centroid(x1, sr=sr1)[0]\n",
        "# frames1 = range(len(spectral_centroids1))\n",
        "# t1 = librosa.frames_to_time(frames1)\n",
        "# spectral_rolloff1 = librosa.feature.spectral_rolloff(x1+0.01, sr=sr1)[0]\n",
        "# plt.figure(figsize=(12, 4))\n",
        "# librosa.display.waveplot(x1, sr=sr1, alpha=0.4)\n",
        "# plt.plot(t1, normalize(spectral_rolloff1), color='r')"
      ],
      "execution_count": 0,
      "outputs": [
        {
          "output_type": "stream",
          "text": [
            "<class 'numpy.ndarray'>\n"
          ],
          "name": "stdout"
        }
      ]
    }
  ]
}