{
  "nbformat": 4,
  "nbformat_minor": 0,
  "metadata": {
    "colab": {
      "name": "audioanalysis",
      "provenance": [],
      "collapsed_sections": [],
      "toc_visible": true,
      "mount_file_id": "1FyS4Q2ZigMWxpFTVzFqV3xE7QRadddYb",
      "authorship_tag": "ABX9TyOCEDOJVJwK7H5hHsQLSfpX",
      "include_colab_link": true
    },
    "kernelspec": {
      "name": "python3",
      "display_name": "Python 3"
    }
  },
  "cells": [
    {
      "cell_type": "markdown",
      "metadata": {
        "id": "view-in-github",
        "colab_type": "text"
      },
      "source": [
        "<a href=\"https://colab.research.google.com/github/gunisha30/machinelearning/blob/master/audioanalysis.ipynb\" target=\"_parent\"><img src=\"https://colab.research.google.com/assets/colab-badge.svg\" alt=\"Open In Colab\"/></a>"
      ]
    },
    {
      "cell_type": "code",
      "metadata": {
        "id": "ycj8uKMUlTPU",
        "colab_type": "code",
        "outputId": "0d4a5138-4801-4005-f2cf-64c10b4286a1",
        "colab": {
          "base_uri": "https://localhost:8080/",
          "height": 230
        }
      },
      "source": [
        "#!pip install pyAudioAnalysis\n",
        "#!pip install pydub\n",
        "!pip install librosa"
      ],
      "execution_count": 0,
      "outputs": [
        {
          "output_type": "stream",
          "text": [
            "Requirement already satisfied: librosa in /usr/local/lib/python3.6/dist-packages (0.6.3)\n",
            "Requirement already satisfied: numba>=0.38.0 in /usr/local/lib/python3.6/dist-packages (from librosa) (0.47.0)\n",
            "Requirement already satisfied: scipy>=1.0.0 in /usr/local/lib/python3.6/dist-packages (from librosa) (1.4.1)\n",
            "Requirement already satisfied: numpy>=1.8.0 in /usr/local/lib/python3.6/dist-packages (from librosa) (1.18.2)\n",
            "Requirement already satisfied: scikit-learn!=0.19.0,>=0.14.0 in /usr/local/lib/python3.6/dist-packages (from librosa) (0.22.2.post1)\n",
            "Requirement already satisfied: resampy>=0.2.0 in /usr/local/lib/python3.6/dist-packages (from librosa) (0.2.2)\n",
            "Requirement already satisfied: joblib>=0.12 in /usr/local/lib/python3.6/dist-packages (from librosa) (0.14.1)\n",
            "Requirement already satisfied: decorator>=3.0.0 in /usr/local/lib/python3.6/dist-packages (from librosa) (4.4.2)\n",
            "Requirement already satisfied: audioread>=2.0.0 in /usr/local/lib/python3.6/dist-packages (from librosa) (2.1.8)\n",
            "Requirement already satisfied: six>=1.3 in /usr/local/lib/python3.6/dist-packages (from librosa) (1.12.0)\n",
            "Requirement already satisfied: llvmlite>=0.31.0dev0 in /usr/local/lib/python3.6/dist-packages (from numba>=0.38.0->librosa) (0.31.0)\n",
            "Requirement already satisfied: setuptools in /usr/local/lib/python3.6/dist-packages (from numba>=0.38.0->librosa) (46.0.0)\n"
          ],
          "name": "stdout"
        }
      ]
    },
    {
      "cell_type": "code",
      "metadata": {
        "id": "1of3evDXH7EC",
        "colab_type": "code",
        "colab": {}
      },
      "source": [
        "import librosa\n"
      ],
      "execution_count": 0,
      "outputs": []
    },
    {
      "cell_type": "markdown",
      "metadata": {
        "id": "hY9KdRGl47Yt",
        "colab_type": "text"
      },
      "source": [
        ""
      ]
    },
    {
      "cell_type": "code",
      "metadata": {
        "id": "oLcAwmaV4_Gk",
        "colab_type": "code",
        "outputId": "ace5de9b-8688-4de3-dab1-9820dedeccf1",
        "colab": {
          "base_uri": "https://localhost:8080/",
          "height": 34
        }
      },
      "source": [
        "from __future__ import print_function\n",
        "import os\n",
        "import glob\n",
        "import aifc\n",
        "import numpy\n",
        "import eyed3\n",
        "import ntpath\n",
        "import shutil\n",
        "import numpy as np\n",
        "from pydub import AudioSegment\n",
        "\n",
        "def read_audio_generic(path):\n",
        "    \"\"\"\n",
        "    Function to read audio files with the following extensions\n",
        "    [\".mp3\", \".wav\", \".au\", \".ogg\"]\n",
        "    \"\"\"\n",
        "    sampling_rate = -1\n",
        "    signal = np.array([])\n",
        "    try:\n",
        "        audiofile = AudioSegment.from_file(path)\n",
        "        data = np.array([])\n",
        "        if audiofile.sample_width == 2:\n",
        "            data = numpy.fromstring(audiofile._data, numpy.int16)\n",
        "        elif audiofile.sample_width == 4:\n",
        "            data = numpy.fromstring(audiofile._data, numpy.int32)\n",
        "\n",
        "        if data.size > 0:\n",
        "            sampling_rate = audiofile.frame_rate\n",
        "            temp_signal = []\n",
        "            for chn in list(range(audiofile.channels)):\n",
        "                temp_signal.append(data[chn::audiofile.channels])\n",
        "            signal = numpy.array(temp_signal).T\n",
        "    except:\n",
        "        print(\"Error: file not found or other I/O error. (DECODING FAILED)\")\n",
        "    return (sampling_rate, signal)\n",
        "\n",
        "a,b=read_audio_generic('C:\\\\Users\\\\hp1\\\\Downloads\\\\Aajanachle.mp3')\n",
        "\n",
        "a=np.array([[[1,2,3,4],[1,2,6,8]],[[5,6,7,8],[8,9,9,8]]])\n",
        "print(a.shape) #this will give output 2,2,4"
      ],
      "execution_count": 0,
      "outputs": [
        {
          "output_type": "stream",
          "text": [
            "Error: file not found or other I/O error. (DECODING FAILED)\n"
          ],
          "name": "stdout"
        }
      ]
    },
    {
      "cell_type": "code",
      "metadata": {
        "id": "sDlEkQ11-9XC",
        "colab_type": "code",
        "outputId": "f1672f02-9907-4579-ac21-3134eef634c7",
        "colab": {
          "base_uri": "https://localhost:8080/",
          "height": 295
        }
      },
      "source": [
        "import numpy as np\n",
        "import scipy.io.wavfile\n",
        "from scipy.fftpack import dct\n",
        "import os\n",
        "import sys\n",
        "import matplotlib.pyplot as plt\n",
        "np.set_printoptions(threshold=sys.maxsize)\n",
        "os.chdir('/content/drive/My Drive/awarathon')\n",
        "samplerate, signal = scipy.io.wavfile.read(\"audio1.wav\") \n",
        "signal = signal[0:int(3.5 * samplerate)] #to take first 3.5 seconds of the audio \n",
        "print(signal.size,samplerate) #size gives length of array\n",
        "#length = signal.shape[0] / samplerate\n",
        "length=signal.size/samplerate #this gives length of audio\n",
        "#print(signal.shape[0]) #same result as size\n",
        "time = np.linspace(0, length, signal.size)\n",
        "plt.plot(time, signal)\n",
        "#plt.plot(time, signal[:, 1], label=\"Right channel\")\n",
        "plt.xlabel(\"Time [s]\")\n",
        "plt.ylabel(\"Amplitude\")\n",
        "#plt.rcParams[\"figure.figsize\"] = [16,9]\n",
        "plt.show()\n"
      ],
      "execution_count": 2,
      "outputs": [
        {
          "output_type": "stream",
          "text": [
            "28000 8000\n"
          ],
          "name": "stdout"
        },
        {
          "output_type": "display_data",
          "data": {
            "image/png": "[encoded data removed]",
            "text/plain": [
              "<Figure size 432x288 with 1 Axes>"
            ]
          },
          "metadata": {
            "tags": []
          }
        }
      ]
    },
    {
      "cell_type": "code",
      "metadata": {
        "id": "yA8yTpyrQCDR",
        "colab_type": "code",
        "colab": {}
      },
      "source": [
        ""
      ],
      "execution_count": 0,
      "outputs": []
    }
  ]
}