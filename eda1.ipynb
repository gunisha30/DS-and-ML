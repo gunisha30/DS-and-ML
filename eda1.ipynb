{
  "nbformat": 4,
  "nbformat_minor": 0,
  "metadata": {
    "colab": {
      "name": "eda1.ipynb",
      "provenance": [],
      "collapsed_sections": [],
      "authorship_tag": "ABX9TyPj/dYwJ1sAbYaKSK6AMh1W",
      "include_colab_link": true
    },
    "kernelspec": {
      "name": "python3",
      "display_name": "Python 3"
    }
  },
  "cells": [
    {
      "cell_type": "markdown",
      "metadata": {
        "id": "view-in-github",
        "colab_type": "text"
      },
      "source": [
        "<a href=\"https://colab.research.google.com/github/gunisha30/machinelearning/blob/master/eda1.ipynb\" target=\"_parent\"><img src=\"https://colab.research.google.com/assets/colab-badge.svg\" alt=\"Open In Colab\"/></a>"
      ]
    },
    {
      "cell_type": "code",
      "metadata": {
        "id": "H13cNM0AeUK5",
        "colab_type": "code",
        "colab": {}
      },
      "source": [
        "import matplotlib.pyplot as plt\n",
        "fig = plt.figure()\n",
        "ax = fig.add_axes([0,0,1,1])\n",
        "langs = ['C', 'C++', 'Java', 'Python', 'PHP']\n",
        "students = [23,17,35,29,12]\n",
        "ax.bar(langs,students)"
      ],
      "execution_count": null,
      "outputs": []
    },
    {
      "cell_type": "code",
      "metadata": {
        "id": "b6UznJ8DfRw8",
        "colab_type": "code",
        "colab": {}
      },
      "source": [
        "import pandas as pd\n",
        "import matplotlib.pyplot as plt\n",
        "\n",
        "fig = plt.figure()\n",
        "ax = fig.add_axes([0,0,2,2])\n",
        "\n",
        "\n",
        "pd.set_option('display.max_columns', 500)\n",
        "df=pd.read_csv('datascientistnew1.csv')\n",
        "#df=df.where(df['Title']=='Data Analyst')\n",
        "#df.to_csv('datascientistnew1.csv')\n",
        "\n",
        "df.dropna(inplace=True)\n",
        "#df=df[0:10]\n",
        "\n",
        "x=df['Company']\n",
        "y=df['Salary']\n",
        "ax.bar(x,y,0.5)\n"
      ],
      "execution_count": null,
      "outputs": []
    },
    {
      "cell_type": "code",
      "metadata": {
        "id": "hGvuZU1VSz3E",
        "colab_type": "code",
        "colab": {}
      },
      "source": [
        "import pandas as pd\n",
        "import matplotlib.pyplot as plt\n",
        "df=pd.read_csv('Final.csv')\n",
        "x=df['title']\n",
        "#print(x)\n",
        "#plt.pie(x)\n",
        "#plt.show()\n",
        "#df1=df.groupby('Title').count()\n",
        "uni=list(df.title.unique())\n",
        "val=[]\n",
        "c=df['title'].value_counts()\n",
        "print(c)\n",
        "y=list(df['title'].value_counts())\n",
        "#print(y)\n",
        "plt.pie(y,labels=uni,radius=1000)\n",
        "plt.show()\n",
        "\n",
        "#print(y)\n",
        "#print(val)"
      ],
      "execution_count": null,
      "outputs": []
    },
    {
      "cell_type": "code",
      "metadata": {
        "id": "c40Ilnj4YXzz",
        "colab_type": "code",
        "colab": {}
      },
      "source": [
        "import pandas as pd\n",
        "lst=['hi','jkh','hi','abc','hi','abc']\n",
        "df=pd.DataFrame(lst,index=[1,2,3,4,5,6],columns=['names'])\n",
        "df.groupby('names').sum()"
      ],
      "execution_count": null,
      "outputs": []
    },
    {
      "cell_type": "code",
      "metadata": {
        "id": "tKt6D8wpvlBY",
        "colab_type": "code",
        "colab": {}
      },
      "source": [
        "import pandas as pd\n",
        "import matplotlib.pyplot as plt\n",
        "import matplotlib.ticker as ticker\n",
        "\n",
        "fig=plt.figure()\n",
        "ax=fig.add_axes([0,0,4,2])\n",
        "ax.xaxis.set_major_locator(ticker.MultipleLocator(8))\n",
        "\n",
        "pd.set_option('display.max_columns', 500)\n",
        "df=pd.read_csv('Final.csv')\n",
        "#print(df.Salary.unique())\n",
        "#df=df[0:8]\n",
        "print(len(df.sal.unique()))\n",
        "df=df[['title','sal']]\n",
        "df=df.where(df['title']=='Software Developer')\n",
        "df.dropna(inplace=True)\n",
        "y=list(df['sal'].value_counts())\n",
        "#print(len(y))\n",
        "#y=list(set(y))\n",
        "#print(y)\n",
        "x=df.sal.unique()\n",
        "#print(len(x))\n",
        "#print(x)\n",
        "df2=pd.DataFrame()\n",
        "df2['uniqueval']=x\n",
        "df2['uniquecount']=y\n",
        "#df2\n",
        "#plt.scatter(x,y)\n",
        "#plt.show()\n",
        "ax.bar(df2['uniqueval'],df2['uniquecount'],0.3)"
      ],
      "execution_count": null,
      "outputs": []
    },
    {
      "cell_type": "code",
      "metadata": {
        "id": "Ptg948YKd5yL",
        "colab_type": "code",
        "colab": {}
      },
      "source": [
        "import seaborn as sn\n",
        "import matplotlib.pyplot as plt\n",
        "import pandas as pd\n",
        "plt.figure(figsize=(9,8))\n",
        "df=pd.read_csv('Final.csv')\n",
        "x=[101,201,301,401,505,666,709,890,990,999]\n",
        "df2=pd.DataFrame()\n",
        "df2['one']=x\n",
        "plt.hist(df2['one'],10)\n",
        "plt.show()\n",
        "plt.hist(df2['one'],4)\n",
        "plt.show()"
      ],
      "execution_count": null,
      "outputs": []
    },
    {
      "cell_type": "code",
      "metadata": {
        "id": "nsJVWszC3XNK",
        "colab_type": "code",
        "colab": {
          "base_uri": "https://localhost:8080/",
          "height": 683
        },
        "outputId": "2e9050e3-84ab-4b16-9eca-442b1fbead03"
      },
      "source": [
        "import pandas as pd\n",
        "import math\n",
        "import matplotlib.pyplot as plt\n",
        "plt.figure(figsize=(20,9))\n",
        "\n",
        "df=pd.read_csv('Final.csv')\n",
        "#print(df.title.unique)\n",
        "#s=df.iloc[0][3]\n",
        "#df2=pd.DataFrame()\n",
        "mini=[]\n",
        "maxi=[]\n",
        "df=df[['title','sal']]\n",
        "#print(df)\n",
        "df=df.where(df['title']=='Software  Developer')\n",
        "\n",
        "df.dropna(inplace=True)\n",
        "#print(df)\n",
        "j=df.index[0]\n",
        "#print(type(j))\n",
        "size=df['sal'].size\n",
        "#print(size)\n",
        "upper=j+size\n",
        "for i in range(j,upper):\n",
        "    s=df['sal'][i]\n",
        "    if '-' in s:\n",
        "        l=s.split('-')\n",
        "        mini.append(l[0])\n",
        "        maxi.append(l[1])\n",
        "    else:\n",
        "        mini.append(s)\n",
        "        maxi.append(s)\n",
        "\n",
        "#print(type(l1))\n",
        "#df2['mini']=mini\n",
        "#df2['maxi']=maxi\n",
        "\n",
        "for i in range(0,len(maxi)):\n",
        "  maxi[i]=int(maxi[i])\n",
        "  mini[i]=int(mini[i])\n",
        "\n",
        "new=list(dict.fromkeys(maxi))\n",
        "new1=list(dict.fromkeys(mini))\n",
        "#print(maxi)\n",
        "new.sort()\n",
        "\n",
        "p=len(new)\n",
        "q=math.ceil(p/4)\n",
        "print(new)\n",
        "print(len(new))\n",
        "bin_values=[new[0],new[q-1],new[(2*q)-1],new[(3*q)-1],new[p-1]]\n",
        "print(bin_values)\n",
        "#print(new)\n",
        "\n",
        "#plt.hist([maxi,mini],bins=[84000,300000,500000,1000000,2000000],color=['r','b'])\n",
        "plt.hist([maxi,mini],bins=bin_values,color=['r','b'])"
      ],
      "execution_count": 123,
      "outputs": [
        {
          "output_type": "stream",
          "text": [
            "[25000, 30000, 50000, 60000, 70000, 84000, 96000, 110000, 120000, 144000, 156000, 180000, 192000, 200000, 210000, 216000, 240000, 250000, 264000, 300000, 350000, 360000, 400000, 420000, 480000, 500000, 512928, 540000, 600000, 611748, 648000, 650000, 660000, 700000, 720000, 780000, 800000, 840000, 850000, 900000, 960000, 1000000, 1100000, 1200000, 1300000, 1400000, 1500000, 1600000, 1620000, 1800000, 2000000, 2500000, 3000000, 3600000, 7200000, 9000000]\n",
            "56\n",
            "[25000, 200000, 540000, 1000000, 9000000]\n"
          ],
          "name": "stdout"
        },
        {
          "output_type": "execute_result",
          "data": {
            "text/plain": [
              "(array([[ 31., 106.,  68.,  44.],\n",
              "        [ 75., 128.,  27.,  17.]]),\n",
              " array([  25000,  200000,  540000, 1000000, 9000000]),\n",
              " <a list of 2 Lists of Patches objects>)"
            ]
          },
          "metadata": {
            "tags": []
          },
          "execution_count": 123
        },
        {
          "output_type": "display_data",
          "data": {
            "image/png": "[encoded data removed]",
            "text/plain": [
              "<Figure size 1440x648 with 1 Axes>"
            ]
          },
          "metadata": {
            "tags": [],
            "needs_background": "light"
          }
        }
      ]
    },
    {
      "cell_type": "code",
      "metadata": {
        "id": "7kMEpYwj1PWM",
        "colab_type": "code",
        "colab": {}
      },
      "source": [
        "import pandas as pd\n",
        "import math\n",
        "import matplotlib.pyplot as plt\n",
        "plt.figure(figsize=(20,9))\n",
        "\n",
        "df=pd.read_csv(r\"Final.csv\")\n",
        "x=df.title.unique()\n",
        "print(x)\n",
        "df=df.where(df['title']=='Software  Developer')\n",
        "print(df)\n",
        "df.dropna(inplace=True)\n",
        "print(df)"
      ],
      "execution_count": null,
      "outputs": []
    }
  ]
}