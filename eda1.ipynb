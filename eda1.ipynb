{
  "nbformat": 4,
  "nbformat_minor": 0,
  "metadata": {
    "colab": {
      "name": "eda1.ipynb",
      "provenance": [],
      "collapsed_sections": [],
      "authorship_tag": "ABX9TyOTTagW2KNR+O29zTq346Ew",
      "include_colab_link": true
    },
    "kernelspec": {
      "name": "python3",
      "display_name": "Python 3"
    }
  },
  "cells": [
    {
      "cell_type": "markdown",
      "metadata": {
        "id": "view-in-github",
        "colab_type": "text"
      },
      "source": [
        "<a href=\"https://colab.research.google.com/github/gunisha30/machinelearning/blob/master/eda1.ipynb\" target=\"_parent\"><img src=\"https://colab.research.google.com/assets/colab-badge.svg\" alt=\"Open In Colab\"/></a>"
      ]
    },
    {
      "cell_type": "code",
      "metadata": {
        "id": "H13cNM0AeUK5",
        "colab_type": "code",
        "colab": {}
      },
      "source": [
        "import matplotlib.pyplot as plt\n",
        "fig = plt.figure()\n",
        "ax = fig.add_axes([0,0,1,1])\n",
        "langs = ['C', 'C++', 'Java', 'Python', 'PHP']\n",
        "students = [23,17,35,29,12]\n",
        "ax.bar(langs,students)"
      ],
      "execution_count": null,
      "outputs": []
    },
    {
      "cell_type": "code",
      "metadata": {
        "id": "b6UznJ8DfRw8",
        "colab_type": "code",
        "colab": {}
      },
      "source": [
        "import pandas as pd\n",
        "import matplotlib.pyplot as plt\n",
        "\n",
        "fig = plt.figure()\n",
        "ax = fig.add_axes([0,0,2,2])\n",
        "\n",
        "\n",
        "pd.set_option('display.max_columns', 500)\n",
        "df=pd.read_csv('datascientistnew1.csv')\n",
        "#df=df.where(df['Title']=='Data Analyst')\n",
        "#df.to_csv('datascientistnew1.csv')\n",
        "\n",
        "df.dropna(inplace=True)\n",
        "#df=df[0:10]\n",
        "\n",
        "x=df['Company']\n",
        "y=df['Salary']\n",
        "ax.bar(x,y,0.5)\n"
      ],
      "execution_count": null,
      "outputs": []
    },
    {
      "cell_type": "code",
      "metadata": {
        "id": "hGvuZU1VSz3E",
        "colab_type": "code",
        "colab": {}
      },
      "source": [
        "import pandas as pd\n",
        "import matplotlib.pyplot as plt\n",
        "df=pd.read_csv('Final.csv')\n",
        "x=df['title']\n",
        "#print(x)\n",
        "#plt.pie(x)\n",
        "#plt.show()\n",
        "#df1=df.groupby('Title').count()\n",
        "uni=list(df.title.unique())\n",
        "val=[]\n",
        "c=df['title'].value_counts()\n",
        "print(c)\n",
        "y=list(df['title'].value_counts())\n",
        "#print(y)\n",
        "plt.pie(y,labels=uni,radius=1000)\n",
        "plt.show()\n",
        "\n",
        "#print(y)\n",
        "#print(val)"
      ],
      "execution_count": null,
      "outputs": []
    },
    {
      "cell_type": "code",
      "metadata": {
        "id": "c40Ilnj4YXzz",
        "colab_type": "code",
        "colab": {}
      },
      "source": [
        "import pandas as pd\n",
        "lst=['hi','jkh','hi','abc','hi','abc']\n",
        "df=pd.DataFrame(lst,index=[1,2,3,4,5,6],columns=['names'])\n",
        "df.groupby('names').sum()"
      ],
      "execution_count": null,
      "outputs": []
    },
    {
      "cell_type": "code",
      "metadata": {
        "id": "tKt6D8wpvlBY",
        "colab_type": "code",
        "colab": {}
      },
      "source": [
        "import pandas as pd\n",
        "import matplotlib.pyplot as plt\n",
        "import matplotlib.ticker as ticker\n",
        "\n",
        "fig=plt.figure()\n",
        "ax=fig.add_axes([0,0,4,2])\n",
        "ax.xaxis.set_major_locator(ticker.MultipleLocator(8))\n",
        "\n",
        "pd.set_option('display.max_columns', 500)\n",
        "df=pd.read_csv('Final.csv')\n",
        "#print(df.Salary.unique())\n",
        "#df=df[0:8]\n",
        "print(len(df.sal.unique()))\n",
        "df=df[['title','sal']]\n",
        "df=df.where(df['title']=='Software Developer')\n",
        "df.dropna(inplace=True)\n",
        "y=list(df['sal'].value_counts())\n",
        "#print(len(y))\n",
        "#y=list(set(y))\n",
        "#print(y)\n",
        "x=df.sal.unique()\n",
        "#print(len(x))\n",
        "#print(x)\n",
        "df2=pd.DataFrame()\n",
        "df2['uniqueval']=x\n",
        "df2['uniquecount']=y\n",
        "#df2\n",
        "#plt.scatter(x,y)\n",
        "#plt.show()\n",
        "ax.bar(df2['uniqueval'],df2['uniquecount'],0.3)"
      ],
      "execution_count": null,
      "outputs": []
    },
    {
      "cell_type": "code",
      "metadata": {
        "id": "Ptg948YKd5yL",
        "colab_type": "code",
        "colab": {}
      },
      "source": [
        "import seaborn as sn\n",
        "import matplotlib.pyplot as plt\n",
        "import pandas as pd\n",
        "plt.figure(figsize=(9,8))\n",
        "df=pd.read_csv('Final.csv')\n",
        "x=[101,201,301,401,505,666,709,890,990,999]\n",
        "df2=pd.DataFrame()\n",
        "df2['one']=x\n",
        "plt.hist(df2['one'],10)\n",
        "plt.show()\n",
        "plt.hist(df2['one'],4)\n",
        "plt.show()"
      ],
      "execution_count": null,
      "outputs": []
    },
    {
      "cell_type": "code",
      "metadata": {
        "id": "nsJVWszC3XNK",
        "colab_type": "code",
        "colab": {}
      },
      "source": [
        "import pandas as pd\n",
        "import math\n",
        "import matplotlib.pyplot as plt\n",
        "plt.figure(figsize=(20,9))\n",
        "\n",
        "df=pd.read_csv('Final.csv')\n",
        "#print(df.title.unique)\n",
        "#s=df.iloc[0][3]\n",
        "#df2=pd.DataFrame()\n",
        "mini=[]\n",
        "maxi=[]\n",
        "df=df[['title','sal']]\n",
        "#print(df)\n",
        "df=df.where(df['title']=='App Developer')\n",
        "\n",
        "df.dropna(inplace=True)\n",
        "#print(df)\n",
        "j=df.index[0]\n",
        "#print(type(j))\n",
        "size=df['sal'].size\n",
        "#print(size)\n",
        "upper=j+size\n",
        "for i in range(j,upper):\n",
        "    s=df['sal'][i]\n",
        "    if '-' in s:\n",
        "        l=s.split('-')\n",
        "        mini.append(l[0])\n",
        "        maxi.append(l[1])\n",
        "    else:\n",
        "        mini.append(s)\n",
        "        maxi.append(s)\n",
        "\n",
        "\n",
        "\n",
        "for i in range(0,len(maxi)):\n",
        "  maxi[i]=int(maxi[i])\n",
        "  mini[i]=int(mini[i])\n",
        "\n",
        "new=list(dict.fromkeys(maxi))\n",
        "new1=list(dict.fromkeys(mini))\n",
        "#print(maxi)\n",
        "new.sort()\n",
        "\n",
        "p=len(new)\n",
        "q=math.ceil(p/4)\n",
        "print(new)\n",
        "print(len(new))\n",
        "bin_values=[new[0],new[q-1],new[(2*q)-1],new[(3*q)-1],new[p-1]]\n",
        "print(bin_values)\n",
        "#print(new)\n",
        "\n",
        "#plt.hist([maxi,mini],bins=[84000,300000,500000,1000000,2000000],color=['r','b'])\n",
        "plt.hist([maxi,mini],bins=bin_values,color=['r','b'])"
      ],
      "execution_count": null,
      "outputs": []
    },
    {
      "cell_type": "code",
      "metadata": {
        "id": "7kMEpYwj1PWM",
        "colab_type": "code",
        "colab": {}
      },
      "source": [
        "import pandas as pd\n",
        "import math\n",
        "import matplotlib.pyplot as plt\n",
        "plt.figure(figsize=(20,9))\n",
        "\n",
        "df=pd.read_csv(r\"Final.csv\")\n",
        "x=df.title.unique()\n",
        "print(x)\n",
        "df=df.where(df['title']=='Software  Developer')\n",
        "print(df)\n",
        "df.dropna(inplace=True)\n",
        "print(df)"
      ],
      "execution_count": null,
      "outputs": []
    },
    {
      "cell_type": "code",
      "metadata": {
        "id": "VcUQn4VofrtU",
        "colab_type": "code",
        "colab": {
          "base_uri": "https://localhost:8080/",
          "height": 455
        },
        "outputId": "1390ecaa-60b1-4a2b-a71a-97ec4214f18f"
      },
      "source": [
        "import pandas as pd\n",
        "import math\n",
        "import matplotlib.pyplot as plt\n",
        "fig=plt.figure(figsize=(15,5))\n",
        "ax=fig.add_axes([0,0,1,1])\n",
        "#ax.axis('equal')\n",
        "\n",
        "df=pd.read_csv(r\"Final.csv\")\n",
        "df.drop(['desc'], axis=1, inplace=True)\n",
        "unique_jobs=list(df.title.unique())\n",
        "#print(unique_jobs)\n",
        "\n",
        "df=df.where(df['title']=='Data Scientist and Analyst')\n",
        "df.dropna(inplace=True)\n",
        "df.rename(columns = {'loc':'location'}, inplace = True) \n",
        "\n",
        "#firm info - graph 1\n",
        "#\n",
        "#print(df['sal'].value_counts())\n",
        "#print()\n",
        "l=list(range(0,40))\n",
        "df.set_index(pd.Index(l), inplace=True)\n",
        "size=df['sal'].size\n",
        "maxi=[]\n",
        "for i in range (0,size):\n",
        "  if '-' in df['sal'][i]:\n",
        "    s=df['sal'][i].split('-')\n",
        "    maxi.append(s[1])\n",
        "  else:\n",
        "    maxi.append(df['sal'][i])\n",
        "\n",
        "for i in range(0,len(maxi)):\n",
        "  maxi[i]=int(maxi[i])\n",
        "print(maxi)\n",
        "#df['max']=maxi\n",
        "ar=np.array(maxi)\n",
        "ar_new=ar.argsort()[-10:][::-1]\n",
        "firms=[]\n",
        "for i in ar_new:\n",
        "  firms.append(df['firm'][i])\n",
        "\n",
        "#print(ar_new)\n",
        "#print(ar[ar_new])\n",
        "\n",
        "ax.bar(firms,ar[ar_new],0.5)\n",
        "\n",
        "#location distribution - graph 2\n",
        "x=df.location.unique()\n",
        "#print(x)\n",
        "y=dict(df['location'].value_counts())\n",
        "#print(type(y))\n",
        "#print(y)\n",
        "p=y.keys()\n",
        "q=y.values()\n",
        "#plt.pie(q, labels=p, radius=2.5, autopct=lambda r:f'{r:.2f}%, {r*sum(q)/100 :.0f} items')\n",
        "#plt.pie(q,labels=p,radius=2.5,autopct='%1.2f%%')\n",
        "#plt.show()\n",
        "#plt.hist(y)\n",
        "#plt.show()"
      ],
      "execution_count": null,
      "outputs": [
        {
          "output_type": "stream",
          "text": [
            "[1200000, 1500000, 560068, 180000, 360000, 372000, 240000, 500000, 540000, 200000, 960000, 180000, 630000, 60000, 180000, 300000, 120000, 36000, 60000, 750000, 240000, 360000, 450000, 1700000, 900000, 144000, 1440000, 1500000, 850000, 720000, 1500000, 1500000, 240000, 431421, 2000000, 240000, 700000, 43200, 300000, 201600]\n"
          ],
          "name": "stdout"
        },
        {
          "output_type": "display_data",
          "data": {
            "image/png": "[encoded data removed]",
            "text/plain": [
              "<Figure size 1080x360 with 1 Axes>"
            ]
          },
          "metadata": {
            "tags": [],
            "needs_background": "light"
          }
        }
      ]
    },
    {
      "cell_type": "code",
      "metadata": {
        "id": "CpUM82Ofo2p4",
        "colab_type": "code",
        "colab": {
          "base_uri": "https://localhost:8080/",
          "height": 33
        },
        "outputId": "21e5bb07-601b-479d-a2bb-38db402fb5f4"
      },
      "source": [
        "import numpy as np\n",
        "arr = np.array([10, 13, 42, 64, 5,55,32,12,11])\n",
        "new_arr=arr.argsort()#[-3:][::-1]\n",
        "#array([4, 3, 1])\n",
        "print(new_arr)\n",
        "#print(arr[new_arr])"
      ],
      "execution_count": null,
      "outputs": [
        {
          "output_type": "stream",
          "text": [
            "[4 0 8 7 1 6 2 5 3]\n"
          ],
          "name": "stdout"
        }
      ]
    },
    {
      "cell_type": "code",
      "metadata": {
        "id": "VV5Ky7qSTbYY",
        "colab_type": "code",
        "colab": {
          "base_uri": "https://localhost:8080/",
          "height": 252
        },
        "outputId": "f09af5e5-4429-4ef2-9aa5-7b517ff8517d"
      },
      "source": [
        "import matplotlib.pyplot as plt\n",
        "import pandas as pd\n",
        "import numpy as np\n",
        "df = pd.read_csv(\"Final.csv\")\n",
        "\n",
        "df=df.where(df['title']=='Data Scientist and Analyst')\n",
        "df.dropna(inplace=True)\n",
        "\n",
        "x=df['loc'].value_counts()\n",
        "#print(df)\n",
        "l=list(range(0,40))\n",
        "df.set_index(pd.Index(l), inplace=True)\n",
        "\n",
        "for i in range(len(x)):\n",
        "    if (x[i]<5)==True:\n",
        "        df.at[i,'loc']='Other'\n",
        "        \n",
        "#print(df)\n",
        "labels = list(df['loc'].unique())\n",
        "sizes = np.array(df['loc'].value_counts())\n",
        "\n",
        "plt.pie(sizes, labels=labels)\n",
        "plt.axis('equal')\n",
        "plt.show()"
      ],
      "execution_count": null,
      "outputs": [
        {
          "output_type": "display_data",
          "data": {
            "image/png": "[encoded data removed]",
            "text/plain": [
              "<Figure size 432x288 with 1 Axes>"
            ]
          },
          "metadata": {
            "tags": []
          }
        }
      ]
    },
    {
      "cell_type": "code",
      "metadata": {
        "id": "CSj_RuV-lZY9",
        "colab_type": "code",
        "colab": {
          "base_uri": "https://localhost:8080/",
          "height": 276
        },
        "outputId": "0e18eba3-f26e-4d10-f567-b2aba008ec73"
      },
      "source": [
        "from flask import Flask, render_template\n",
        "import matplotlib.pyplot as plt\n",
        "\n",
        "app = Flask(__name__)\n",
        "@app.route('/test')\n",
        "def chartTest():\n",
        "  x=[1,2,3]\n",
        "  y=[2,4,6]\n",
        "  plt.plot(x,y)   \n",
        "  plt.savefig('/static/images/new_plot.png')\n",
        "  return render_template('untitled1.html', name = 'new_plot', url ='/static/images/new_plot.png')\n",
        "\n",
        "if __name__ == '__main__':\n",
        "   app.run(debug = True)"
      ],
      "execution_count": null,
      "outputs": [
        {
          "output_type": "stream",
          "text": [
            " * Serving Flask app \"__main__\" (lazy loading)\n",
            " * Environment: production\n",
            "\u001b[31m   WARNING: This is a development server. Do not use it in a production deployment.\u001b[0m\n",
            "\u001b[2m   Use a production WSGI server instead.\u001b[0m\n",
            " * Debug mode: on\n"
          ],
          "name": "stdout"
        },
        {
          "output_type": "stream",
          "text": [
            " * Running on http://127.0.0.1:5000/ (Press CTRL+C to quit)\n",
            " * Restarting with stat\n"
          ],
          "name": "stderr"
        },
        {
          "output_type": "error",
          "ename": "SystemExit",
          "evalue": "ignored",
          "traceback": [
            "An exception has occurred, use %tb to see the full traceback.\n",
            "\u001b[0;31mSystemExit\u001b[0m\u001b[0;31m:\u001b[0m 1\n"
          ]
        },
        {
          "output_type": "stream",
          "text": [
            "/usr/local/lib/python3.6/dist-packages/IPython/core/interactiveshell.py:2890: UserWarning: To exit: use 'exit', 'quit', or Ctrl-D.\n",
            "  warn(\"To exit: use 'exit', 'quit', or Ctrl-D.\", stacklevel=1)\n"
          ],
          "name": "stderr"
        }
      ]
    }
  ]
}